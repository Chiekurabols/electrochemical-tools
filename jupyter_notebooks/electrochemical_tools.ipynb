{
 "cells": [
  {
   "cell_type": "code",
   "execution_count": 1,
   "id": "250e7d3a",
   "metadata": {},
   "outputs": [],
   "source": [
    "import numpy as np\n",
    "from matplotlib import pyplot as plt"
   ]
  },
  {
   "cell_type": "code",
   "execution_count": 2,
   "id": "54e3d623",
   "metadata": {},
   "outputs": [],
   "source": [
    "class ec_reaction:\n",
    "    def __init__(\n",
    "        self,\n",
    "        edft,\n",
    "        zpe,\n",
    "        reactants,\n",
    "        labels,\n",
    "        elchem_steps,\n",
    "        electrode,\n",
    "        eq_pot,\n",
    "        tds=None,\n",
    "        dg=None,\n",
    "        symfac=1,\n",
    "        refel=\"RHE\"\n",
    "    ):\n",
    "        \n",
    "        # placeholder reminder that multiple checks are necessary\n",
    "        if len({len(edft), len(zpe), len(labels)-2, len(elchem_steps)-1}) != 1:\n",
    "            raise ValueError(\"Mismatch in number of supplied elements\")\n",
    "        \n",
    "        self.edft = edft\n",
    "        self.zpe = zpe\n",
    "        self.tds = [0] * len(self.edft) if tds is None else tds\n",
    "        self.reactants = reactants\n",
    "        self.labels = labels\n",
    "        self.elchem_steps = elchem_steps\n",
    "        self.electrode = electrode\n",
    "        self.eq_pot = eq_pot\n",
    "        \n",
    "        self.symfac = symfac\n",
    "        self.refel = refel\n",
    "        \n",
    "        if dg is None:\n",
    "            self.dg = self._calc_dg_zero(self.edft, self.zpe, self.tds, self.reactants, self.symfac)\n",
    "        else:\n",
    "            self.dg = dg\n",
    "        \n",
    "    @classmethod\n",
    "    def auto_read(cls):\n",
    "        # read from subdirectories from a given directory. subdirectory names are deduced from labels\n",
    "        pass\n",
    "    \n",
    "    @classmethod\n",
    "    def from_dg(cls, dg):\n",
    "        # probably not necessary\n",
    "        pass\n",
    "    \n",
    "    def _sum_reactants(self, reactants, idx, energy_type):\n",
    "        out = 0\n",
    "        for key in reactants.keys():\n",
    "            out += reactants[key][\"reac_part\"][idx] * reactants[key][\"energies\"][energy_type]\n",
    "        return out\n",
    "            \n",
    "    \n",
    "    def _calc_dg_zero(self, edft, zpe, tds, reactants, symfac):\n",
    "        dg = []\n",
    "        edft.insert(0, 0)\n",
    "        zpe.insert(0, 0)\n",
    "        tds.insert(0, 0)\n",
    "        for i in range(1, len(edft)):\n",
    "            de = edft[i] - edft[i-1] + symfac * self._sum_reactants(reactants, i-1, 0)\n",
    "            dzpe = zpe[i] - zpe[i-1] + symfac * self._sum_reactants(reactants, i-1, 1)\n",
    "            dtds = tds[i] - tds[i-1] + symfac * self._sum_reactants(reactants, i-1, 2)\n",
    "            dg.append((de + dzpe - dtds) / symfac)\n",
    "                                \n",
    "        dg.append(self.eq_pot*sum(self.elchem_steps) - sum(dg))\n",
    "        \n",
    "        return dg\n",
    "    \n",
    "    def calc_gmax(self, op):\n",
    "        dg = np.array(self.dg)\n",
    "\n",
    "        dg = dg + self.electrode * (self.eq_pot + op)\n",
    "        \n",
    "        gmax = []\n",
    "        for i in range(len(dg)):\n",
    "            gmax.append(np.cumsum(dg[i:]))\n",
    "\n",
    "        gmax_arr = np.concatenate(gmax)\n",
    "\n",
    "        position_matrix = []\n",
    "        for i in range(len(dg)):\n",
    "            for j in range(len(dg)-i):\n",
    "                position_matrix.append([i, j+i+1])\n",
    "\n",
    "        gmax = max(gmax_arr)\n",
    "        \n",
    "        gmax_position = position_matrix[np.argmax(gmax_arr)]\n",
    "        \n",
    "        return (gmax, gmax_position)\n",
    "    \n",
    "    \n",
    "    def calc_eta_td(self):\n",
    "        dg = np.array(self.dg)\n",
    "        eta_td = max(dg) + self.electrode * (self.eq_pot)\n",
    "        eta_td_position = np.argmax(dg) + 1\n",
    "        return (eta_td, eta_td_position)\n",
    "    \n",
    "    def _g_plot(self, dg_plot, u, print_labels=False, ax=None, **kwargs):\n",
    "\n",
    "        ax = plt.gca() if ax is None else ax\n",
    "\n",
    "        right_side = ax.spines[\"right\"]\n",
    "        top_side = ax.spines[\"top\"]\n",
    "        right_side.set_visible(False)\n",
    "        top_side.set_visible(False)\n",
    "\n",
    "        ax.set_xticks([])\n",
    "        ax.set_xlim(0, sum(self.elchem_steps)+1.5)\n",
    "        ax.set_ylabel('Free Energy, eV')\n",
    "        ax.set_xlabel('Reaction Coordinate')\n",
    "\n",
    "        ax.step(np.array(range(len(dg_plot))), dg_plot, where='post', **kwargs)\n",
    "\n",
    "        ax.text(\n",
    "            0.95, -0.01,\n",
    "            rf'$U_\\mathrm{{{self.refel}}}=${u:.2f} V',\n",
    "            verticalalignment='top',\n",
    "            horizontalalignment='right',\n",
    "            transform=ax.transAxes,\n",
    "            color='k', fontsize=12)\n",
    "\n",
    "        if print_labels:\n",
    "            for i in range(len(self.labels)):\n",
    "                ax.text(\n",
    "                    i + 0.05,\n",
    "                    dg_plot[i],\n",
    "                    self.labels[i],\n",
    "                    fontdict=None,\n",
    "                    va='bottom',\n",
    "                    rotation = 0,\n",
    "                    size = 12)\n",
    "                \n",
    "    def _g_plot_trapezo(\n",
    "        self,\n",
    "        dg_plot,\n",
    "        u,\n",
    "        print_labels=False,\n",
    "        ax=None,\n",
    "        color='pink',\n",
    "        line_width=0.85,\n",
    "        **kwargs\n",
    "    ):\n",
    "        \n",
    "        #some duplication of the code from _g_plot, perhaps can be improved / streamlined\n",
    "        line_shift = 1-line_width\n",
    "        \n",
    "        ax = plt.gca() if ax is None else ax\n",
    "        dg_plot = dg_plot[:-1]\n",
    "        for i in range(len(dg_plot)):\n",
    "            ax.plot([i+line_shift, i+line_width], [dg_plot[i], dg_plot[i]], color=color, **kwargs)\n",
    "            \n",
    "            if i > 0:\n",
    "                ax.plot(\n",
    "                    [i-line_shift, i+line_shift],\n",
    "                    [dg_plot[i-1], dg_plot[i]],\n",
    "                    linestyle='dotted',\n",
    "                    color=color,\n",
    "                    **kwargs\n",
    "                )\n",
    "                \n",
    "            if print_labels:\n",
    "                ax.text(\n",
    "                    i + line_shift+0.05,\n",
    "                    dg_plot[i],\n",
    "                    self.labels[i],\n",
    "                    fontdict=None,\n",
    "                    va='bottom',\n",
    "                    rotation = 0,\n",
    "                    size = 12\n",
    "                )\n",
    "                \n",
    "        right_side = ax.spines[\"right\"]\n",
    "        top_side = ax.spines[\"top\"]\n",
    "        right_side.set_visible(False)\n",
    "        top_side.set_visible(False)\n",
    "\n",
    "        ax.set_xticks([])\n",
    "        ax.set_xlim(0, sum(self.elchem_steps)+1.5)\n",
    "        ax.set_ylabel('Free Energy, eV')\n",
    "        ax.set_xlabel('Reaction Coordinate')\n",
    "        ax.text(\n",
    "            0.95, -0.01,\n",
    "            rf'$U_\\mathrm{{{self.refel}}}=${u:.2f} V',\n",
    "            verticalalignment='top',\n",
    "            horizontalalignment='right',\n",
    "            transform=ax.transAxes,\n",
    "            color='k', fontsize=12\n",
    "        )\n",
    "    \n",
    "\n",
    "                \n",
    "    def _g_transform_plot(self, dg, u):\n",
    "        dg = np.array(dg)\n",
    "        dg = dg - u\n",
    "        dg_plot = np.cumsum(dg)\n",
    "        dg_plot = np.concatenate(([0], dg_plot, [dg_plot[-1]]))\n",
    "        return dg_plot\n",
    "                \n",
    "    def g_plot(self, dg=None, u=0, ax=None, trapezo=False, **kwargs):\n",
    "        dg = self.dg if dg is None else dg\n",
    "        ax = plt.gca() if ax is None else ax\n",
    "\n",
    "        dg_plot = self._g_transform_plot(dg, u)\n",
    "        \n",
    "        if trapezo:\n",
    "            self._g_plot_trapezo(dg_plot, u, **kwargs)\n",
    "        else:\n",
    "            self._g_plot(dg_plot, u, **kwargs)\n",
    "\n",
    "        \n",
    "    def g_plot_eq(self, ax=None, trapezo=False, **kwargs):\n",
    "        ax = plt.gca() if ax is None else ax\n",
    "        \n",
    "        dg_plot = self._g_transform_plot(self.dg, u=self.eq_pot)\n",
    "        \n",
    "        if trapezo:\n",
    "            self._g_plot_trapezo(dg_plot, u=self.eq_pot, print_labels=True, ax=ax, **kwargs)\n",
    "        else:\n",
    "            self._g_plot(dg_plot, u=self.eq_pot, print_labels=True, ax=ax, **kwargs)\n",
    "        \n",
    "        eta_td, eta_td_position = self.calc_eta_td()\n",
    "\n",
    "        ax.text(\n",
    "            eta_td_position + 0.27,\n",
    "            (dg_plot[eta_td_position-1] + dg_plot[eta_td_position])/2,\n",
    "            rf'$\\eta_\\mathrm{{TD}} = $ {eta_td:.2f} V',\n",
    "            fontdict=None,\n",
    "            va='center',\n",
    "            rotation = 270,\n",
    "            size=12\n",
    "        )\n",
    "\n",
    "        ax.annotate(\n",
    "            '',\n",
    "            xy=(eta_td_position + 0.25, dg_plot[eta_td_position]),\n",
    "            xytext=(eta_td_position + 0.25, dg_plot[eta_td_position-1]),\n",
    "            arrowprops={'arrowstyle':'<->', 'shrinkA': 0, 'shrinkB': 0}\n",
    "        )\n",
    "        \n",
    "    \n",
    "    def g_plot_gmax(self, op=0.3, ax=None, custom_coord=None, trapezo=False, **kwargs):\n",
    "            \n",
    "        ax = plt.gca() if ax is None else ax\n",
    "        \n",
    "        dg_plot = self._g_transform_plot(self.dg, u=(self.eq_pot + op))\n",
    "        \n",
    "        if trapezo:\n",
    "            self._g_plot_trapezo(dg_plot, u=self.eq_pot, print_labels=True, ax=ax, **kwargs)\n",
    "        else:\n",
    "            self._g_plot(dg_plot, u=self.eq_pot, print_labels=True, ax=ax, **kwargs)\n",
    "        \n",
    "        gmax, pos = self.calc_gmax(op)\n",
    "\n",
    "        ax.annotate(\n",
    "            '',\n",
    "            xy=(pos[1] + 0.25, dg_plot[pos[1]]),\n",
    "            xytext=(pos[1] + 0.25, dg_plot[pos[0]]),\n",
    "            arrowprops={'arrowstyle':'<->', 'shrinkA': 0, 'shrinkB': 0}\n",
    "        )\n",
    "        \n",
    "        xytext_coord = (3, -1*op) if custom_coord is None else custom_coord\n",
    "        \n",
    "        ax.annotate(\n",
    "            rf'$G_{{max}}$({op:.2f} V) =  {gmax:.2f} eV',\n",
    "            xy = ( pos[1] + 0.25, (dg_plot[pos[1]] + dg_plot[pos[0]])/2 ),\n",
    "            xytext = xytext_coord, ### this needs to be optimized\n",
    "            arrowprops={\n",
    "                'arrowstyle': '->',\n",
    "                'shrinkA': 3,\n",
    "                'shrinkB': 3,\n",
    "                'connectionstyle':\"arc3,rad=0.4\",\n",
    "                'ls': '--',\n",
    "                'color': 'grey',\n",
    "                'alpha': 0.5\n",
    "            }\n",
    "        )"
   ]
  },
  {
   "cell_type": "code",
   "execution_count": 3,
   "id": "1b57b2cf",
   "metadata": {},
   "outputs": [],
   "source": [
    "class oer(ec_reaction):\n",
    "    def __init__(\n",
    "        self,\n",
    "        edft,\n",
    "        zpe,\n",
    "        reactants_energies,\n",
    "        labels=[\"*\", \"*OH\", \"*O\", \"*OOH\", r\"* + O$_2$\"],\n",
    "        elchem_steps=[True, True, True, True],\n",
    "        electrode=-1,\n",
    "        eq_pot=1.23,\n",
    "        **kwargs\n",
    "    ):\n",
    "        \n",
    "        self._check_reactants(reactants_energies)\n",
    "        \n",
    "        self.reactants={\n",
    "            \"*\": {\"reac_part\": [-1, 0, 0]}, \n",
    "            \"H2O\": {\"reac_part\": [-1, 0, -1]},\n",
    "            \"H2\": {\"reac_part\": [0.5, 0.5, 0.5]}\n",
    "        }\n",
    "\n",
    "        for key in self.reactants.keys():\n",
    "            self.reactants[key][\"energies\"] = reactants_energies[key]\n",
    "        \n",
    "        super().__init__(edft, zpe, self.reactants, labels, elchem_steps, electrode, eq_pot, **kwargs)\n",
    "        \n",
    "    def _check_reactants(self, reactants):\n",
    "        pass\n",
    "\n",
    "    \n"
   ]
  },
  {
   "cell_type": "code",
   "execution_count": 4,
   "id": "7811a1d7",
   "metadata": {},
   "outputs": [],
   "source": [
    "def construct_ec_mechanism(reactants, labels, elchem_steps, electrode, eq_pot, **kwargs):\n",
    "    \n",
    "    class custom_ec_mechanism(ec_reaction):\n",
    "        def __init__(\n",
    "            self,\n",
    "            edft,\n",
    "            zpe,\n",
    "            reactants_energies,\n",
    "            reactants=reactants,\n",
    "            labels=labels,\n",
    "            elchem_steps=elchem_steps,\n",
    "            electrode=electrode,\n",
    "            eq_pot=eq_pot,\n",
    "            **kwargs\n",
    "        ):\n",
    "            \n",
    "            self.reactants = reactants\n",
    "            for key in self.reactants.keys():\n",
    "                self.reactants[key][\"energies\"] = reactants_energies[key]\n",
    "            \n",
    "            super().__init__(edft, zpe, reactants, labels, elchem_steps, electrode, eq_pot, **kwargs)\n",
    "            self._check_reactants()\n",
    "        \n",
    "        def _check_reactants(self):\n",
    "            pass\n",
    "            \n",
    "    return custom_ec_mechanism\n",
    "\n",
    "def construct_ec_own(ec_reaction_class, reactants_energies, **kwargs):\n",
    "    class ec_own(ec_reaction_class):\n",
    "        def __init__(self, edft, zpe, reactants_energies=reactants_energies, **kwargs):\n",
    "            super().__init__(edft, zpe, reactants_energies, **kwargs)\n",
    "            \n",
    "    return ec_own\n",
    "            \n",
    "        "
   ]
  },
  {
   "cell_type": "code",
   "execution_count": 5,
   "id": "b344bd84",
   "metadata": {},
   "outputs": [],
   "source": [
    "### testing inheritance method\n",
    "pentlandites_oer_inheritance = construct_ec_own(\n",
    "    oer,\n",
    "    {\n",
    "        \"*\": [-1098.84651015, 7.7699320, 0],\n",
    "        \"H2O\": [-14.19697643, 0.56792, 0.67],\n",
    "        \"H2\": [-7.00151164, 0.26849, 0.403]\n",
    "    }\n",
    ")\n",
    "\n",
    "test_inheritance = pentlandites_oer_inheritance(\n",
    "    edft=[-1109.62562690, -1104.34057779, -1113.49315426],\n",
    "    zpe=[8.2053904, 7.922305, 8.2315381],\n",
    "    symfac=1,\n",
    "    dg=None\n",
    ")"
   ]
  },
  {
   "cell_type": "code",
   "execution_count": 6,
   "id": "035ea0f1",
   "metadata": {},
   "outputs": [],
   "source": [
    "### testing factory method\n",
    "oer_factory = construct_ec_mechanism(\n",
    "    reactants={\n",
    "        \"*\": {\"reac_part\": [-1, 0, 0]},\n",
    "        \"H2O\": {\"reac_part\": [-1, 0, -1]},\n",
    "        \"H2\": {\"reac_part\": [0.5, 0.5, 0.5]}\n",
    "    },\n",
    "    labels=[\"*\", \"*OH\", \"*O\", \"*OOH\", r\"* + O$_2$\"],\n",
    "    elchem_steps=[True, True, True, True],\n",
    "    electrode=-1,\n",
    "    eq_pot=1.23\n",
    ")\n",
    "\n",
    "pentlandites_oer_factory = construct_ec_own(\n",
    "    oer_factory,\n",
    "    {\n",
    "        \"*\": [-1098.84651015, 7.7699320, 0],\n",
    "        \"H2O\": [-14.19697643, 0.56792, 0.67],\n",
    "        \"H2\": [-7.00151164, 0.26849, 0.403]\n",
    "    }\n",
    ")\n",
    "\n",
    "test_factory = pentlandites_oer_factory(\n",
    "    edft=[-1109.62562690, -1104.34057779, -1113.49315426],\n",
    "    zpe=[8.2053904, 7.922305, 8.2315381],\n",
    "    symfac=1, dg=None\n",
    ")\n",
    "\n",
    "\n"
   ]
  },
  {
   "cell_type": "code",
   "execution_count": 7,
   "id": "7370ff9f",
   "metadata": {},
   "outputs": [
    {
     "name": "stdout",
     "output_type": "stream",
     "text": [
      "{'*': {'reac_part': [-1, 0, 0], 'energies': [-1098.84651015, 7.769932, 0]}, 'H2O': {'reac_part': [-1, 0, -1], 'energies': [-14.19697643, 0.56792, 0.67]}, 'H2': {'reac_part': [0.5, 0.5, 0.5], 'energies': [-7.00151164, 0.26849, 0.403]}}\n",
      "{'*': {'reac_part': [-1, 0, 0], 'energies': [-1098.84651015, 7.769932, 0]}, 'H2O': {'reac_part': [-1, 0, -1], 'energies': [-14.19697643, 0.56792, 0.67]}, 'H2': {'reac_part': [0.5, 0.5, 0.5], 'energies': [-7.00151164, 0.26849, 0.403]}}\n",
      "factory dg: [0.38738725999999823, 1.4339528900000442, 1.887702240000014, 1.2109576099999435]\n",
      "\n",
      "inheritance dg:[0.38738725999999823, 1.4339528900000442, 1.887702240000014, 1.2109576099999435]\n",
      "\n",
      "gmax factory is: (0.35770224000001405, [2, 3])\n",
      "\n",
      "gmax inheritance is: (0.35770224000001405, [2, 3])\n",
      "\n"
     ]
    }
   ],
   "source": [
    "print(test_factory.reactants)\n",
    "\n",
    "print(test_inheritance.reactants)\n",
    "\n",
    "print(f\"factory dg: {test_factory.dg}\\n\")\n",
    "\n",
    "print(f\"inheritance dg:{test_inheritance.dg}\\n\")\n",
    "\n",
    "print(f\"gmax factory is: {test_factory.calc_gmax(op = 0.30)}\\n\")\n",
    "\n",
    "print(f\"gmax inheritance is: {test_inheritance.calc_gmax(op = 0.30)}\\n\")"
   ]
  },
  {
   "cell_type": "code",
   "execution_count": 8,
   "id": "5ed33c8d",
   "metadata": {},
   "outputs": [
    {
     "data": {
      "image/png": "[encoded data removed]",
      "text/plain": [
       "<Figure size 432x288 with 1 Axes>"
      ]
     },
     "metadata": {
      "needs_background": "light"
     },
     "output_type": "display_data"
    }
   ],
   "source": [
    "fig, ax = plt.subplots()\n",
    "test_factory.g_plot(u = 1.53, print_labels=True, c=\"darkorange\")"
   ]
  },
  {
   "cell_type": "code",
   "execution_count": 9,
   "id": "6a1feba8",
   "metadata": {},
   "outputs": [
    {
     "data": {
      "image/png": "[encoded data removed]",
      "text/plain": [
       "<Figure size 432x288 with 1 Axes>"
      ]
     },
     "metadata": {
      "needs_background": "light"
     },
     "output_type": "display_data"
    }
   ],
   "source": [
    "fig, ax = plt.subplots()\n",
    "test_factory.g_plot(u = 1.53, trapezo=True, print_labels=True, color=\"navy\", line_width=0.85)"
   ]
  },
  {
   "cell_type": "code",
   "execution_count": 10,
   "id": "b53263e7",
   "metadata": {},
   "outputs": [
    {
     "data": {
      "image/png": "[encoded data removed]",
      "text/plain": [
       "<Figure size 432x288 with 1 Axes>"
      ]
     },
     "metadata": {
      "needs_background": "light"
     },
     "output_type": "display_data"
    }
   ],
   "source": [
    "fig, ax = plt.subplots()\n",
    "test_factory.g_plot_eq()"
   ]
  },
  {
   "cell_type": "code",
   "execution_count": 11,
   "id": "7194a76c",
   "metadata": {},
   "outputs": [
    {
     "data": {
      "image/png": "[encoded data removed]",
      "text/plain": [
       "<Figure size 432x288 with 1 Axes>"
      ]
     },
     "metadata": {
      "needs_background": "light"
     },
     "output_type": "display_data"
    }
   ],
   "source": [
    "test_factory.g_plot_gmax(custom_coord=(2, -0.6))"
   ]
  },
  {
   "cell_type": "code",
   "execution_count": 12,
   "id": "0700c640",
   "metadata": {},
   "outputs": [
    {
     "name": "stdout",
     "output_type": "stream",
     "text": [
      "(5.172229999999992, [1, 4])\n"
     ]
    },
    {
     "data": {
      "image/png": "[encoded data removed]",
      "text/plain": [
       "<Figure size 432x288 with 1 Axes>"
      ]
     },
     "metadata": {
      "needs_background": "light"
     },
     "output_type": "display_data"
    }
   ],
   "source": [
    "test_mxenes_cls = construct_ec_own(\n",
    "    oer_factory,\n",
    "    {\n",
    "        \"*\": [-322.3571, 0, 0],\n",
    "        \"H2O\": [-14.21547, 0.566, 0.67],\n",
    "        \"H2\": [-6.7547, 0.2677, 0.41]\n",
    "    }\n",
    ")\n",
    "\n",
    "test_mxenes_oer = test_mxenes_cls(\n",
    "    edft=[-337.1703,  -332.402, -341.1524],\n",
    "    zpe=[0, 0, 0],\n",
    "    symfac=1, dg=None\n",
    ")\n",
    "\n",
    "test_mxenes_oer_2 = test_mxenes_cls(\n",
    "    edft=[-337.1703,  -332.402, -341.1524],\n",
    "    zpe=[0, 0, 0]\n",
    ")\n",
    "\n",
    "test_mxenes_oer.g_plot_gmax(op=0, custom_coord=(2, -2))\n",
    "print(test_mxenes_oer.calc_gmax(op=0))"
   ]
  },
  {
   "cell_type": "code",
   "execution_count": 17,
   "id": "6b1356cf",
   "metadata": {},
   "outputs": [
    {
     "name": "stdout",
     "output_type": "stream",
     "text": [
      "[0, 0, 0]\n"
     ]
    },
    {
     "data": {
      "image/png": "[encoded data removed]",
      "text/plain": [
       "<Figure size 432x288 with 1 Axes>"
      ]
     },
     "metadata": {
      "needs_background": "light"
     },
     "output_type": "display_data"
    }
   ],
   "source": [
    "test_mxenes_oer_3 = test_mxenes_cls(\n",
    "    edft=[0, 0, 0],\n",
    "    zpe=[0, 0, 0],\n",
    "    dg=test_mxenes_oer_2.dg\n",
    ")\n",
    "test_factory.g_plot_gmax(op=0, custom_coord=(1, -0.2), trapezo=True, color='red')\n",
    "print(test_mxenes_oer_3.edft)"
   ]
  }
 ],
 "metadata": {
  "kernelspec": {
   "display_name": "Python 3 (ipykernel)",
   "language": "python",
   "name": "python3"
  },
  "language_info": {
   "codemirror_mode": {
    "name": "ipython",
    "version": 3
   },
   "file_extension": ".py",
   "mimetype": "text/x-python",
   "name": "python",
   "nbconvert_exporter": "python",
   "pygments_lexer": "ipython3",
   "version": "3.9.7"
  }
 },
 "nbformat": 4,
 "nbformat_minor": 5
}
